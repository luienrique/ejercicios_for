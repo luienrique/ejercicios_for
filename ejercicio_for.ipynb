{
  "nbformat": 4,
  "nbformat_minor": 0,
  "metadata": {
    "colab": {
      "provenance": [],
      "authorship_tag": "ABX9TyP53/5DXFpJNUmY4ENmaP4N",
      "include_colab_link": true
    },
    "kernelspec": {
      "name": "python3",
      "display_name": "Python 3"
    },
    "language_info": {
      "name": "python"
    }
  },
  "cells": [
    {
      "cell_type": "markdown",
      "metadata": {
        "id": "view-in-github",
        "colab_type": "text"
      },
      "source": [
        "<a href=\"https://colab.research.google.com/github/luienrique/ejercicios_for/blob/main/ejercicio_for.ipynb\" target=\"_parent\"><img src=\"https://colab.research.google.com/assets/colab-badge.svg\" alt=\"Open In Colab\"/></a>"
      ]
    },
    {
      "cell_type": "markdown",
      "source": [
        "# INTRUCION REPETITIVA FOR\n"
      ],
      "metadata": {
        "id": "E-smgnWtrBLS"
      }
    },
    {
      "cell_type": "code",
      "execution_count": null,
      "metadata": {
        "id": "VU2O5yyGqYob"
      },
      "outputs": [],
      "source": [
        "# ejercicio 1: MOSTRAR LOS NUMEROS DEL 1 AL 10,SIN UASAR INSTRUSIONES REPETITIVAS \n",
        "\n",
        "print(1)\n",
        "print(2)\n",
        "print(3)\n",
        "print(4)\n",
        "print(5)\n",
        "print(6)\n",
        "print(7)\n",
        "print(8)\n",
        "print(9)\n",
        "print(10)"
      ]
    },
    {
      "cell_type": "code",
      "source": [
        "# ejercicio 2: mostrar los numeros del 1 al 10, usando  la instruccion  while\n",
        "contador = 1\n",
        "print(contador)\n",
        "while contador <10:\n",
        "  #contador =contador + 1\n",
        "  contador += 1\n",
        "  print(contador)"
      ],
      "metadata": {
        "id": "9pQ__Rt9thhy"
      },
      "execution_count": null,
      "outputs": []
    },
    {
      "cell_type": "code",
      "source": [
        "# ejercicio 3: mostrar los numeros del 1 al 10, usando la instruccion for y una lista como iterable\n",
        "for i in [1,2,3,4,5,6,7,8,9,10]:\n",
        "  print(i)"
      ],
      "metadata": {
        "id": "1uH1zsaivRFi"
      },
      "execution_count": null,
      "outputs": []
    },
    {
      "cell_type": "code",
      "source": [
        "# ejercicio 4: mostrar los numeros del 1 al 10, usando la instruccion for y la funcion range\n",
        "\n",
        "for i in range(1,11):\n",
        "  print(i)\n",
        "  "
      ],
      "metadata": {
        "id": "i2CMRE16wrir"
      },
      "execution_count": null,
      "outputs": []
    },
    {
      "cell_type": "code",
      "source": [
        "# ejercicio 5: mostrar una frase 10 veces  usando la instruccion for y la lsita\n",
        "for i in [1,2,3,4,5,6,7,8,9,10]:\n",
        "  print(\"sistema, la mejor !!!\")"
      ],
      "metadata": {
        "id": "g2H6cJ74xkZp"
      },
      "execution_count": null,
      "outputs": []
    },
    {
      "cell_type": "code",
      "source": [
        "# ejercicio 6: mostrar las silabas inicial de los dias de la semna, usando for y una lista con los dias de la semana \n",
        "\n",
        "dias_semanas = [\"lu\",\"ma\", \"mi\",\"ju\",\"vi\",\"sa\",\"do\"]\n",
        "for i in dias_semanas:\n",
        "  print(i)"
      ],
      "metadata": {
        "id": "rdZv7MYQyodc"
      },
      "execution_count": null,
      "outputs": []
    },
    {
      "cell_type": "code",
      "source": [
        "# ejercicio 7: mostra una lista de distintos tipos de datos usando for\n",
        "lista =[1, 3.4, 9, True, \"Nestor\", 8, \"Guanenta\"]\n",
        "for i in lista:\n",
        "  print(i)\n",
        "\n"
      ],
      "metadata": {
        "id": "HrxgXFbE3JfV"
      },
      "execution_count": null,
      "outputs": []
    },
    {
      "cell_type": "code",
      "source": [
        "# ejercicio 8: ingresar un nombre y mostrarlo letra a letra, usando for\n",
        "\n",
        "nombre = input(\"Dijite su nombre :\")\n",
        "for letra in nombre:\n",
        "  print(letra)"
      ],
      "metadata": {
        "id": "M1sNK4ws4bI7"
      },
      "execution_count": null,
      "outputs": []
    },
    {
      "cell_type": "code",
      "source": [
        "# ejercicio 9: ingrese su nombre y mostrarlo letra a letra, usando for, cambiando por * a la vocal e\n",
        "nombre = input(\"Digite su nombre: \")\n",
        "for letra in nombre:\n",
        "  if letra == 'e':\n",
        "    print(\"*\")\n",
        "  else:\n",
        "    print(letra)\n"
      ],
      "metadata": {
        "id": "5efT38sE5OMx"
      },
      "execution_count": null,
      "outputs": []
    },
    {
      "cell_type": "code",
      "source": [
        "# ejercicio 10 ingrese su nombre  y mostarlo  letra a letra, en mayuscula usando for \n",
        "nombre = input(\"Digite su nombre: \")\n",
        "for letra in nombre:\n",
        "  print(letra.upper())"
      ],
      "metadata": {
        "id": "JoLzE0ANBPPs"
      },
      "execution_count": null,
      "outputs": []
    },
    {
      "cell_type": "code",
      "source": [
        "# ejercicio 11: imprimir lista  en numeros usando for y range \n",
        "print( \"numeros del 0 al 9\" )\n",
        "for i in range(10):\n",
        "  print(i)\n",
        "\n",
        "print( \"numeros del 1 al 10\" )\n",
        "for i in range(1,11):\n",
        "  print(i)\n",
        "\n",
        "print(\"10 veces la frace\")\n",
        "for i in range(10):\n",
        "  print(\"sistemas el mejor\")\n",
        "\n",
        "print(\"10 veces la frace i = \")\n",
        "for i in range(10):\n",
        "  print(\"i = \" + str(i))\n",
        "\n",
        "  print(\"10 veces la frace i = \")\n",
        "  for i in  range(10):\n",
        "    print(f\" i = {i}\")\n",
        "\n",
        "print(\"Rango del 7 al 18, incrementando de 4 en 4\")\n",
        "for i in range(7,17,4):\n",
        "  print(i)\n",
        "\n",
        "print(\"convierte el rango en lista  a, y la muestra \")\n",
        "a= list(range(1000))\n",
        "print(a)\n"
      ],
      "metadata": {
        "id": "OC_e4jIDC1Xe"
      },
      "execution_count": null,
      "outputs": []
    },
    {
      "cell_type": "markdown",
      "source": [
        "# Ejercicios\n",
        "1. Dada la siguiente lista de números, [20, 21, 30, 41, 50, 51, 201] mostrar en pantalla solo los que NO terminan en 1.\n",
        "2. Mostrar 1000 veces la palabra \"Programacion\"\n",
        "3. Del conjunto de cadenas [\"E\", \"F\", \"M\", \"A\"] que corresponden a las iniciales de los primeros cuatro meses del año, mostrar el nombre completo de dichos meses.\n",
        "4. Leer un texto y determinar cuántas veces dicho texto contiene cada una de las vocales en minuscula y/o mayúscula"
      ],
      "metadata": {
        "id": "xkthi8AgKSDE"
      }
    },
    {
      "cell_type": "code",
      "source": [
        "# ejerccio 1:Dada la siguiente lista de números, [20, 21, 30, 41, 50, 51, 201] mostrar en pantalla solo los que NO terminan en 1.\n",
        "lista = [20, 21, 30, 41, 50, 51, 201]\n",
        "for i in (20,30,50):\n",
        "  print(i)"
      ],
      "metadata": {
        "id": "4CxMKn5-LOvb"
      },
      "execution_count": null,
      "outputs": []
    },
    {
      "cell_type": "code",
      "source": [
        "#ejercicio 2:Mostrar 1000 veces la palabra \"Programacion\"\n",
        "for i in range(1000):\n",
        "  print(\"programacion\")"
      ],
      "metadata": {
        "id": "mRNe9VWMQ4w-"
      },
      "execution_count": null,
      "outputs": []
    },
    {
      "cell_type": "code",
      "source": [
        "# ejercico 3:Del conjunto de cadenas [\"E\", \"F\", \"M\", \"A\"] que corresponden a las iniciales de los primeros cuatro meses del año, mostrar el nombre completo de dichos meses.\n",
        "\n"
      ],
      "metadata": {
        "id": "fi7HCR-eQ661"
      },
      "execution_count": null,
      "outputs": []
    }
  ]
}